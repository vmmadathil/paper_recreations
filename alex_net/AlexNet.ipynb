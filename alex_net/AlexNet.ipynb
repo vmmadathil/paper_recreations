{
  "nbformat": 4,
  "nbformat_minor": 0,
  "metadata": {
    "colab": {
      "name": "AlexNet.ipynb",
      "provenance": [],
      "collapsed_sections": [],
      "authorship_tag": "ABX9TyPBT186NEYjT2wD6bjARh39",
      "include_colab_link": true
    },
    "kernelspec": {
      "name": "python3",
      "display_name": "Python 3"
    },
    "language_info": {
      "name": "python"
    },
    "accelerator": "GPU"
  },
  "cells": [
    {
      "cell_type": "markdown",
      "metadata": {
        "id": "view-in-github",
        "colab_type": "text"
      },
      "source": [
        "<a href=\"https://colab.research.google.com/github/vmmadathil/paper_recreations/blob/master/alex_net/AlexNet.ipynb\" target=\"_parent\"><img src=\"https://colab.research.google.com/assets/colab-badge.svg\" alt=\"Open In Colab\"/></a>"
      ]
    },
    {
      "cell_type": "code",
      "metadata": {
        "colab": {
          "base_uri": "https://localhost:8080/"
        },
        "id": "EZS150oyTY4n",
        "outputId": "201cc88a-f68d-43b5-bc9b-482f75d8dc5d"
      },
      "source": [
        "import tensorflow as tf\n",
        "device_name = tf.test.gpu_device_name()\n",
        "if device_name != '/device:GPU:0':\n",
        "  raise SystemError('GPU device not found')\n",
        "print('Found GPU at: {}'.format(device_name))"
      ],
      "execution_count": 1,
      "outputs": [
        {
          "output_type": "stream",
          "text": [
            "Found GPU at: /device:GPU:0\n"
          ],
          "name": "stdout"
        }
      ]
    },
    {
      "cell_type": "code",
      "metadata": {
        "id": "baqjDISfT2E3"
      },
      "source": [
        "from tensorflow import keras\n",
        "import matplotlib.pyplot as plt\n",
        "import os\n",
        "import time\n",
        "import datetime"
      ],
      "execution_count": 2,
      "outputs": []
    },
    {
      "cell_type": "code",
      "metadata": {
        "colab": {
          "base_uri": "https://localhost:8080/"
        },
        "id": "xyRsAA8aT7bm",
        "outputId": "71f9ecaa-9b65-4ed2-edae-2ff3f7f9f319"
      },
      "source": [
        "##loading in the CIFAR10 dataset\n",
        "(train_images, train_labels), (test_images, test_labels) = keras.datasets.cifar10.load_data()"
      ],
      "execution_count": 3,
      "outputs": [
        {
          "output_type": "stream",
          "text": [
            "Downloading data from https://www.cs.toronto.edu/~kriz/cifar-10-python.tar.gz\n",
            "170500096/170498071 [==============================] - 4s 0us/step\n"
          ],
          "name": "stdout"
        }
      ]
    },
    {
      "cell_type": "code",
      "metadata": {
        "id": "WufslGQUULwY"
      },
      "source": [
        "## creating the validation sets as well by taking the last 5000 images\n",
        "validation_images, validation_labels = train_images[:5000], train_labels[:5000]\n",
        "train_images, train_labels = train_images[5000:], train_labels[5000:]"
      ],
      "execution_count": 4,
      "outputs": []
    },
    {
      "cell_type": "code",
      "metadata": {
        "colab": {
          "base_uri": "https://localhost:8080/"
        },
        "id": "39xsGTOTe9BA",
        "outputId": "17cb3782-5fbe-466b-902a-23e8da667a49"
      },
      "source": [
        "print(type(train_images), type(train_labels))"
      ],
      "execution_count": 5,
      "outputs": [
        {
          "output_type": "stream",
          "text": [
            "<class 'numpy.ndarray'> <class 'numpy.ndarray'>\n"
          ],
          "name": "stdout"
        }
      ]
    },
    {
      "cell_type": "code",
      "metadata": {
        "colab": {
          "base_uri": "https://localhost:8080/"
        },
        "id": "TyrmldNEfVjb",
        "outputId": "c3849593-6cd7-4998-ec81-d2298558161d"
      },
      "source": [
        "print(len(train_images))\n",
        "print(len(test_images))\n",
        "print(len(validation_images))"
      ],
      "execution_count": 6,
      "outputs": [
        {
          "output_type": "stream",
          "text": [
            "45000\n",
            "10000\n",
            "5000\n"
          ],
          "name": "stdout"
        }
      ]
    },
    {
      "cell_type": "code",
      "metadata": {
        "id": "3MN-0jAVfX4W"
      },
      "source": [
        "import random\n",
        "random.seed(30)\n",
        "\n",
        "train_index = random.sample(range(45000), 11250)\n",
        "test_index = random.sample(range(10000), 2500)\n",
        "val_index = random.sample(range(5000), 1250)"
      ],
      "execution_count": 7,
      "outputs": []
    },
    {
      "cell_type": "code",
      "metadata": {
        "id": "AWtBjaPcdcBm"
      },
      "source": [
        "#randomly selecting half of the dataset for RAM limitations\n",
        "train_images = train_images[train_index]\n",
        "train_labels = train_labels[train_index]\n",
        "\n",
        "test_images = train_images[test_index]\n",
        "test_labels = train_labels[test_index]\n",
        "\n",
        "validation_images = validation_images[val_index]\n",
        "validation_labels = validation_labels[val_index]"
      ],
      "execution_count": 8,
      "outputs": []
    },
    {
      "cell_type": "code",
      "metadata": {
        "id": "hB8CSoODUuVc"
      },
      "source": [
        "## creating a tensorflow dataset representation\n",
        "train_ds = tf.data.Dataset.from_tensor_slices((train_images, train_labels))\n",
        "test_ds = tf.data.Dataset.from_tensor_slices((test_images, test_labels))\n",
        "validation_ds = tf.data.Dataset.from_tensor_slices((validation_images, validation_labels))"
      ],
      "execution_count": 9,
      "outputs": []
    },
    {
      "cell_type": "code",
      "metadata": {
        "id": "jyAHWpZLXn1r"
      },
      "source": [
        "#class names\n",
        "CLASS_NAMES= ['airplane', 'automobile', 'bird', 'cat', 'deer', 'dog', 'frog', 'horse', 'ship', 'truck']"
      ],
      "execution_count": 10,
      "outputs": []
    },
    {
      "cell_type": "code",
      "metadata": {
        "colab": {
          "base_uri": "https://localhost:8080/",
          "height": 94
        },
        "id": "M0ANMab0V6gf",
        "outputId": "ff641b63-cc29-45ec-b370-d9adbf00a981"
      },
      "source": [
        "#visualizing some of the training set\n",
        "plt.figure(figsize = (5, 5))\n",
        "\n",
        "for i, (image, label) in enumerate(train_ds.take(5)):\n",
        "  ax = plt.subplot(5,5,i+1)\n",
        "  plt.imshow(image)\n",
        "  plt.title(CLASS_NAMES[label.numpy()[0]])\n",
        "  plt.axis('off')"
      ],
      "execution_count": 11,
      "outputs": [
        {
          "output_type": "display_data",
          "data": {
            "image/png": "[encoded data removed]",
            "text/plain": [
              "<Figure size 360x360 with 5 Axes>"
            ]
          },
          "metadata": {
            "tags": [],
            "needs_background": "light"
          }
        }
      ]
    },
    {
      "cell_type": "code",
      "metadata": {
        "colab": {
          "base_uri": "https://localhost:8080/"
        },
        "id": "hfx8nr_UYD_p",
        "outputId": "981288b0-e455-414a-9b1d-139b68d250c2"
      },
      "source": [
        "#looking at the size of the datasets\n",
        "train_ds_size = tf.data.experimental.cardinality(train_ds).numpy()\n",
        "test_ds_size = tf.data.experimental.cardinality(test_ds).numpy()\n",
        "validation_ds_size = tf.data.experimental.cardinality(validation_ds).numpy()\n",
        "print(\"Training data size:\", train_ds_size)\n",
        "print(\"Test data size:\", test_ds_size)\n",
        "print(\"Validation data size:\", validation_ds_size)"
      ],
      "execution_count": 12,
      "outputs": [
        {
          "output_type": "stream",
          "text": [
            "Training data size: 11250\n",
            "Test data size: 2500\n",
            "Validation data size: 1250\n"
          ],
          "name": "stdout"
        }
      ]
    },
    {
      "cell_type": "code",
      "metadata": {
        "id": "X7B0iuMBbLUP"
      },
      "source": [
        "#function to process images \n",
        "def process_images(image, label):\n",
        "    # Normalize images to have a mean of 0 and standard deviation of 1\n",
        "    image = tf.image.per_image_standardization(image)\n",
        "    # Resize images from 32x32 to 277x277\n",
        "    image = tf.image.resize(image, (227,227))\n",
        "    return image, label"
      ],
      "execution_count": 13,
      "outputs": []
    },
    {
      "cell_type": "code",
      "metadata": {
        "id": "1BWxZ6FfbXBm"
      },
      "source": [
        "batch_size = 32\n",
        "\n",
        "train_ds = train_ds.map(process_images).shuffle(buffer_size=train_ds_size).batch(batch_size = batch_size, drop_remainder = True)\n",
        "\n",
        "test_ds = test_ds.map(process_images).shuffle(buffer_size=test_ds_size).batch(batch_size = batch_size, drop_remainder = True)\n",
        "\n",
        "validation_ds = validation_ds.map(process_images).shuffle(buffer_size=validation_ds_size).batch(batch_size = batch_size, drop_remainder = True)"
      ],
      "execution_count": 14,
      "outputs": []
    },
    {
      "cell_type": "code",
      "metadata": {
        "id": "1l5hy0Hcdhc4"
      },
      "source": [
        "#implementing the model\n",
        "model = keras.models.Sequential([\n",
        "  #1st conv layer -- 96 kernels, size 11 x 11 x 3, stride of 4\n",
        "  keras.layers.Conv2D(filters = 96,\n",
        "                       kernel_size = (11, 11),\n",
        "                       strides = (4, 4),\n",
        "                       input_shape = (227, 227, 3),\n",
        "                       activation = 'relu'),\n",
        "  #response normalization\n",
        "  keras.layers.BatchNormalization(),\n",
        "  #max-pooling\n",
        "  keras.layers.MaxPool2D(pool_size = (3, 3), \n",
        "                         strides = (2, 2)),\n",
        "  #2nd conv layer -- 256 kernels, size 5 x 5 x 48\n",
        "  keras.layers.Conv2D(filters = 256,\n",
        "                       kernel_size = (5, 5),\n",
        "                       strides = (1, 1),\n",
        "                       padding = \"same\",\n",
        "                       activation = 'relu'),\n",
        "  #response normalization\n",
        "  keras.layers.BatchNormalization(),\n",
        "  #max-pooling\n",
        "  keras.layers.MaxPool2D(pool_size = (3, 3),\n",
        "                          strides = (2, 2)),\n",
        "  #3rd conv layer -- 384 kernels, size 3 x 3 x 256\n",
        "  keras.layers.Conv2D(filters = 384,\n",
        "                      kernel_size = (3, 3),\n",
        "                      strides = (1, 1),\n",
        "                      padding = 'same',\n",
        "                      activation = 'relu'),\n",
        "  #4th conv layer -- 384 kernels, size 3 x 3 x 192\n",
        "  keras.layers.Conv2D(filters = 384,\n",
        "                      kernel_size = (3, 3),\n",
        "                      strides = (1, 1),\n",
        "                      padding = 'same',\n",
        "                      activation = 'relu'),\n",
        "  #5th conv layer -- 256 kernels, size 3 x 3 x 192\n",
        "  keras.layers.Conv2D(filters = 256,\n",
        "                      kernel_size = (3, 3),\n",
        "                      strides  = (1, 1),\n",
        "                      padding = 'same',\n",
        "                      activation = 'relu'),\n",
        "  #max-pooling\n",
        "  keras.layers.MaxPool2D(pool_size = (3, 3),\n",
        "                         strides = (2,2)),\n",
        "  #flattening layer\n",
        "  keras.layers.Flatten(),\n",
        "  #fully conected layer -- 4096 neurons\n",
        "  keras.layers.Dense(4096, activation = 'relu'),\n",
        "  #fully conected layer -- 4096 neurons\n",
        "  keras.layers.Dense(4096, activation = 'relu'),\n",
        "  #last layer -- 10 neurons\n",
        "  keras.layers.Dense(10, activation = 'softmax')\n",
        "])"
      ],
      "execution_count": 15,
      "outputs": []
    },
    {
      "cell_type": "code",
      "metadata": {
        "colab": {
          "base_uri": "https://localhost:8080/"
        },
        "id": "33dfN-IlYdvI",
        "outputId": "eb35aca5-d462-4174-eb8c-527a170d9f84"
      },
      "source": [
        "model.compile(loss='sparse_categorical_crossentropy', optimizer=tf.optimizers.SGD(lr=0.01), metrics=['accuracy'])\n",
        "model.summary()"
      ],
      "execution_count": 16,
      "outputs": [
        {
          "output_type": "stream",
          "text": [
            "Model: \"sequential\"\n",
            "_________________________________________________________________\n",
            "Layer (type)                 Output Shape              Param #   \n",
            "=================================================================\n",
            "conv2d (Conv2D)              (None, 55, 55, 96)        34944     \n",
            "_________________________________________________________________\n",
            "batch_normalization (BatchNo (None, 55, 55, 96)        384       \n",
            "_________________________________________________________________\n",
            "max_pooling2d (MaxPooling2D) (None, 27, 27, 96)        0         \n",
            "_________________________________________________________________\n",
            "conv2d_1 (Conv2D)            (None, 27, 27, 256)       614656    \n",
            "_________________________________________________________________\n",
            "batch_normalization_1 (Batch (None, 27, 27, 256)       1024      \n",
            "_________________________________________________________________\n",
            "max_pooling2d_1 (MaxPooling2 (None, 13, 13, 256)       0         \n",
            "_________________________________________________________________\n",
            "conv2d_2 (Conv2D)            (None, 13, 13, 384)       885120    \n",
            "_________________________________________________________________\n",
            "conv2d_3 (Conv2D)            (None, 13, 13, 384)       1327488   \n",
            "_________________________________________________________________\n",
            "conv2d_4 (Conv2D)            (None, 13, 13, 256)       884992    \n",
            "_________________________________________________________________\n",
            "max_pooling2d_2 (MaxPooling2 (None, 6, 6, 256)         0         \n",
            "_________________________________________________________________\n",
            "flatten (Flatten)            (None, 9216)              0         \n",
            "_________________________________________________________________\n",
            "dense (Dense)                (None, 4096)              37752832  \n",
            "_________________________________________________________________\n",
            "dense_1 (Dense)              (None, 4096)              16781312  \n",
            "_________________________________________________________________\n",
            "dense_2 (Dense)              (None, 10)                40970     \n",
            "=================================================================\n",
            "Total params: 58,323,722\n",
            "Trainable params: 58,323,018\n",
            "Non-trainable params: 704\n",
            "_________________________________________________________________\n"
          ],
          "name": "stdout"
        },
        {
          "output_type": "stream",
          "text": [
            "/usr/local/lib/python3.7/dist-packages/tensorflow/python/keras/optimizer_v2/optimizer_v2.py:375: UserWarning: The `lr` argument is deprecated, use `learning_rate` instead.\n",
            "  \"The `lr` argument is deprecated, use `learning_rate` instead.\")\n"
          ],
          "name": "stderr"
        }
      ]
    },
    {
      "cell_type": "code",
      "metadata": {
        "id": "8p3Tbx8cWEFA"
      },
      "source": [
        "# Load the TensorBoard notebook extension\n",
        "%load_ext tensorboard"
      ],
      "execution_count": 17,
      "outputs": []
    },
    {
      "cell_type": "code",
      "metadata": {
        "id": "_se-9IeaajZv"
      },
      "source": [
        "log_dir=\"logs\\\\fit\\\\\" + datetime.datetime.now().strftime(\"%Y%m%d-%H%M%S\")\n",
        "tensorboard_callback = keras.callbacks.TensorBoard(log_dir=log_dir)"
      ],
      "execution_count": 18,
      "outputs": []
    },
    {
      "cell_type": "code",
      "metadata": {
        "id": "AXVrNmbvKRjW"
      },
      "source": [
        "# callbacks at training\n",
        "class myCallback(tf.keras.callbacks.Callback):\n",
        "    def on_epoch_end(self,epoch,logs={}):\n",
        "        if (logs.get(\"accuracy\")==1.00 and logs.get(\"loss\")<0.03):\n",
        "            print(\"\\nReached 100% accuracy so stopping training\")\n",
        "            self.model.stop_training =True\n",
        "callbacks = myCallback()"
      ],
      "execution_count": 19,
      "outputs": []
    },
    {
      "cell_type": "code",
      "metadata": {
        "colab": {
          "base_uri": "https://localhost:8080/"
        },
        "id": "ne3v2yAMcTv_",
        "outputId": "e1a5a2bc-efc2-4fce-f49f-c5175a2645ea"
      },
      "source": [
        "model.fit(train_ds,\n",
        "          epochs=50,\n",
        "          validation_data = validation_ds,\n",
        "          validation_freq=1,\n",
        "          callbacks=[tensorboard_callback, callbacks])"
      ],
      "execution_count": 20,
      "outputs": [
        {
          "output_type": "stream",
          "text": [
            "Epoch 1/50\n",
            "  5/351 [..............................] - ETA: 1:24 - loss: 2.9270 - accuracy: 0.1937WARNING:tensorflow:Callback method `on_train_batch_begin` is slow compared to the batch time (batch time: 0.0178s vs `on_train_batch_begin` time: 0.0917s). Check your callbacks.\n",
            "WARNING:tensorflow:Callback method `on_train_batch_end` is slow compared to the batch time (batch time: 0.0178s vs `on_train_batch_end` time: 0.0647s). Check your callbacks.\n",
            "351/351 [==============================] - 54s 49ms/step - loss: 1.7108 - accuracy: 0.3854 - val_loss: 1.4916 - val_accuracy: 0.4912\n",
            "Epoch 2/50\n",
            "351/351 [==============================] - 19s 46ms/step - loss: 1.3184 - accuracy: 0.5265 - val_loss: 1.2916 - val_accuracy: 0.5521\n",
            "Epoch 3/50\n",
            "351/351 [==============================] - 19s 46ms/step - loss: 1.0947 - accuracy: 0.6115 - val_loss: 1.2868 - val_accuracy: 0.5489\n",
            "Epoch 4/50\n",
            "351/351 [==============================] - 20s 47ms/step - loss: 0.9046 - accuracy: 0.6814 - val_loss: 1.2943 - val_accuracy: 0.5497\n",
            "Epoch 5/50\n",
            "351/351 [==============================] - 19s 47ms/step - loss: 0.7322 - accuracy: 0.7424 - val_loss: 1.0864 - val_accuracy: 0.6234\n",
            "Epoch 6/50\n",
            "351/351 [==============================] - 19s 47ms/step - loss: 0.5379 - accuracy: 0.8156 - val_loss: 1.1398 - val_accuracy: 0.6266\n",
            "Epoch 7/50\n",
            "351/351 [==============================] - 20s 48ms/step - loss: 0.3677 - accuracy: 0.8746 - val_loss: 1.2057 - val_accuracy: 0.6106\n",
            "Epoch 8/50\n",
            "351/351 [==============================] - 20s 48ms/step - loss: 0.2333 - accuracy: 0.9243 - val_loss: 1.1050 - val_accuracy: 0.6579\n",
            "Epoch 9/50\n",
            "351/351 [==============================] - 20s 47ms/step - loss: 0.1244 - accuracy: 0.9652 - val_loss: 1.0879 - val_accuracy: 0.7011\n",
            "Epoch 10/50\n",
            "351/351 [==============================] - 20s 47ms/step - loss: 0.1213 - accuracy: 0.9730 - val_loss: 1.0596 - val_accuracy: 0.6779\n",
            "Epoch 11/50\n",
            "351/351 [==============================] - 20s 48ms/step - loss: 0.0305 - accuracy: 0.9952 - val_loss: 1.2991 - val_accuracy: 0.6859\n",
            "Epoch 12/50\n",
            "351/351 [==============================] - 20s 48ms/step - loss: 0.0116 - accuracy: 0.9987 - val_loss: 1.2569 - val_accuracy: 0.7059\n",
            "Epoch 13/50\n",
            "351/351 [==============================] - 20s 47ms/step - loss: 0.0060 - accuracy: 0.9993 - val_loss: 1.3376 - val_accuracy: 0.7147\n",
            "Epoch 14/50\n",
            "351/351 [==============================] - 20s 48ms/step - loss: 0.0105 - accuracy: 0.9971 - val_loss: 1.3264 - val_accuracy: 0.7051\n",
            "Epoch 15/50\n",
            "351/351 [==============================] - 20s 48ms/step - loss: 0.0051 - accuracy: 0.9991 - val_loss: 1.4538 - val_accuracy: 0.6851\n",
            "Epoch 16/50\n",
            "351/351 [==============================] - 20s 47ms/step - loss: 0.0018 - accuracy: 1.0000 - val_loss: 1.4239 - val_accuracy: 0.7043\n",
            "\n",
            "Reached 100% accuracy so stopping training\n"
          ],
          "name": "stdout"
        },
        {
          "output_type": "execute_result",
          "data": {
            "text/plain": [
              "<tensorflow.python.keras.callbacks.History at 0x7fab7a609890>"
            ]
          },
          "metadata": {
            "tags": []
          },
          "execution_count": 20
        }
      ]
    },
    {
      "cell_type": "code",
      "metadata": {
        "colab": {
          "base_uri": "https://localhost:8080/"
        },
        "id": "hDEqVOhDMD_u",
        "outputId": "07202f9a-be51-4a78-fdac-a9a453f87cd4"
      },
      "source": [
        "# Saving the model\n",
        "model.save('AlexNet_saved_model/')"
      ],
      "execution_count": 21,
      "outputs": [
        {
          "output_type": "stream",
          "text": [
            "INFO:tensorflow:Assets written to: AlexNet_saved_model/assets\n"
          ],
          "name": "stdout"
        }
      ]
    },
    {
      "cell_type": "code",
      "metadata": {
        "colab": {
          "base_uri": "https://localhost:8080/"
        },
        "id": "NfJ68HRNMNBD",
        "outputId": "d4e47896-9c86-40f7-db4d-5371576edb35"
      },
      "source": [
        "## Evaluating the model\n",
        "loss, acc = model.evaluate(test_ds)\n",
        "print(\"accuracy:{:.2f}%\".format(acc*100))"
      ],
      "execution_count": 23,
      "outputs": [
        {
          "output_type": "stream",
          "text": [
            "78/78 [==============================] - 3s 23ms/step - loss: 6.3605e-04 - accuracy: 1.0000\n",
            "accuracy:100.00%\n"
          ],
          "name": "stdout"
        }
      ]
    }
  ]
}